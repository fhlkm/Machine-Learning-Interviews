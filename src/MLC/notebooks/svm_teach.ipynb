{
 "cells": [
  {
   "cell_type": "markdown",
   "id": "a6e30ef6",
   "metadata": {},
   "source": [
    "# Support Vector Machine (SVM) - Training Explained"
   ]
  },
  {
   "cell_type": "markdown",
   "id": "966a5e95",
   "metadata": {},
   "source": [
    "This document provides a comprehensive overview of how Support Vector Machines (SVMs) work, focusing on their mathematical foundation, training objectives, and implementation details, including gradient-based optimization techniques."
   ]
  },
  {
   "cell_type": "markdown",
   "id": "97000da9",
   "metadata": {},
   "source": [
    "## 1. Decision Function"
   ]
  },
  {
   "cell_type": "markdown",
   "id": "815cb8cd",
   "metadata": {},
   "source": [
    "For binary classification, the SVM decision function is:\n",
    "\n",
    "$$f(x) = w^\\top x + b$$\n",
    "\n",
    "Where:\n",
    "\n",
    "- $w$: Weight vector\n",
    "- $b$: Bias (intercept)\n",
    "- $x$: Input feature vector\n",
    "\n",
    "The prediction is given by:\n",
    "\n",
    "$$\\hat{y} = \\text{sign}(f(x)) = \\text{sign}(w^\\top x + b)$$"
   ]
  },
  {
   "cell_type": "markdown",
   "id": "6cdb252a",
   "metadata": {},
   "source": [
    "## 2. Objective Function (Hard Margin)"
   ]
  },
  {
   "cell_type": "markdown",
   "id": "e3ed999e",
   "metadata": {},
   "source": [
    "If the data is linearly separable, SVM tries to find the hyperplane with the maximum margin:\n",
    "\n",
    "$$\\min_{w, b} \\quad \\frac{1}{2} \\|w\\|^2$$\n",
    "\n",
    "### Subject to constraints:\n",
    "\n",
    "$$y_i(w^\\top x_i + b) \\geq 1 \\quad \\forall i$$"
   ]
  },
  {
   "cell_type": "markdown",
   "id": "53fda9d1",
   "metadata": {},
   "source": [
    "## 3. Objective Function (Soft Margin)"
   ]
  },
  {
   "cell_type": "markdown",
   "id": "48780fa5",
   "metadata": {},
   "source": [
    "When data is not perfectly separable, we introduce slack variables $\\xi_i$ to allow margin violations:\n",
    "\n",
    "$$\\min_{w, b, \\xi} \\quad \\frac{1}{2} \\|w\\|^2 + C \\sum_{i=1}^{n} \\xi_i$$\n",
    "\n",
    "Subject to:\n",
    "\n",
    "$$y_i(w^\\top x_i + b) \\geq 1 - \\xi_i, \\quad \\xi_i \\geq 0$$"
   ]
  },
  {
   "cell_type": "markdown",
   "id": "3258916f",
   "metadata": {},
   "source": [
    "## 4. Gradient Descent Update Rule (Primal Form)"
   ]
  },
  {
   "cell_type": "markdown",
   "id": "988abf57",
   "metadata": {},
   "source": [
    "We approximate the hinge loss with:\n",
    "\n",
    "$$L(w, b) = \\frac{1}{2} \\|w\\|^2 + C \\sum_{i=1}^{n} \\max(0, 1 - y_i(w^\\top x_i + b))$$"
   ]
  },
  {
   "cell_type": "markdown",
   "id": "8332f4f6",
   "metadata": {},
   "source": [
    "Gradient updates:\n",
    "- If $y_i(w^\\top x_i + b) \\geq 1$: $\\nabla_w = w$, $\\nabla_b = 0$\n",
    "- If $y_i(w^\\top x_i + b) < 1$: $\\nabla_w = w - C y_i x_i$, $\\nabla_b = -C y_i$"
   ]
  },
  {
   "cell_type": "markdown",
   "id": "a2e384ad",
   "metadata": {},
   "source": [
    "## 5. Stochastic Gradient Descent (SGD)"
   ]
  },
  {
   "cell_type": "markdown",
   "id": "91409831",
   "metadata": {},
   "source": [
    "Instead of computing the gradient over the whole dataset, we update $w$ and $b$ using one sample at a time."
   ]
  },
  {
   "cell_type": "markdown",
   "id": "7e3055be",
   "metadata": {},
   "source": [
    "when point is misclassfied , The line below combines L2 regularization and hinge loss gradient:"
   ]
  },
  {
   "cell_type": "markdown",
   "id": "74c76f8b",
   "metadata": {},
   "source": [
    "```python\n",
    "w -= lr * (2 * lambda_param * w - y_i * x_i)  # ← L2 regularization + hinge loss gradient\n",
    "```"
   ]
  },
  {
   "cell_type": "code",
   "execution_count": null,
   "id": "ce4e1762-c00d-4e3e-a831-b3f52cbc931b",
   "metadata": {},
   "outputs": [],
   "source": [
    "otherwisee the gradient is \n"
   ]
  },
  {
   "cell_type": "code",
   "execution_count": null,
   "id": "c60d3405-e170-4036-9ce4-328f437ab2e3",
   "metadata": {},
   "outputs": [],
   "source": [
    "w -= lr * (2 * lambda_param * w )  # ← L2 regularization + hinge loss gradient"
   ]
  },
  {
   "cell_type": "markdown",
   "id": "b8429fad",
   "metadata": {},
   "source": [
    "## 6. Regularization Gradient"
   ]
  },
  {
   "cell_type": "markdown",
   "id": "d685957c",
   "metadata": {},
   "source": [
    "To penalize large weights, SVM uses **L2 regularization**:\n",
    "\n",
    "$$\\frac{1}{2} \\|w\\|^2$$\n",
    "\n",
    "Its gradient w.r.t. $w$ is:\n",
    "\n",
    "$$\\nabla_w = w$$\n",
    "\n",
    "Implemented as:"
   ]
  },
  {
   "cell_type": "markdown",
   "id": "89b0073d",
   "metadata": {},
   "source": [
    "```python\n",
    "w -= lr * (2 * lambda_param * w)\n",
    "```"
   ]
  },
  {
   "cell_type": "markdown",
   "id": "c9f5e7db",
   "metadata": {},
   "source": [
    "## Summary"
   ]
  },
  {
   "cell_type": "markdown",
   "id": "45964313",
   "metadata": {},
   "source": [
    "| Component               | Explanation                                    |\n",
    "| ------------------------ | ---------------------------------------------- |\n",
    "| Decision Function        | Linear combination of weights and input        |\n",
    "| Objective Function       | Maximize margin, minimize classification error |\n",
    "| Constraints              | Ensure proper classification with margin       |\n",
    "| Gradient Descent         | Optimize weights and bias using loss gradients |\n",
    "| SGD                      | Efficient training via per-sample updates      |\n",
    "| Regularization Gradient  | Shrinks weights to improve generalization      |"
   ]
  },
  {
   "cell_type": "code",
   "execution_count": null,
   "id": "14704f19",
   "metadata": {},
   "outputs": [],
   "source": [
    "for x_i, y_i in dataset:\n",
    "    if y_i * (w @ x_i + b) >= 1:\n",
    "        w -= lr * (2 * lambda_param * w)\n",
    "    else:\n",
    "        w -= lr * (2 * lambda_param * w - y_i * x_i)\n",
    "        b -= lr * y_i"
   ]
  }
 ],
 "metadata": {
  "kernelspec": {
   "display_name": "Python 3 (ipykernel)",
   "language": "python",
   "name": "python3"
  },
  "language_info": {
   "codemirror_mode": {
    "name": "ipython",
    "version": 3
   },
   "file_extension": ".py",
   "mimetype": "text/x-python",
   "name": "python",
   "nbconvert_exporter": "python",
   "pygments_lexer": "ipython3",
   "version": "3.10.15"
  }
 },
 "nbformat": 4,
 "nbformat_minor": 5
}
